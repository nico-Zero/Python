{
 "cells": [
  {
   "cell_type": "markdown",
   "metadata": {},
   "source": [
    "# Implement a Doubly Linked List\n",
    "\n",
    "For this interview problem, implement a node class and show how it can be used to create a doubly linked list.\n"
   ]
  },
  {
   "cell_type": "code",
   "execution_count": 10,
   "metadata": {
    "collapsed": true
   },
   "outputs": [],
   "source": [
    "class Node(object):\n",
    "    def __init__(self, value):\n",
    "        self.value = value\n",
    "        self.previousnode = None\n",
    "        self.nextnode = None"
   ]
  },
  {
   "cell_type": "code",
   "execution_count": 11,
   "metadata": {
    "collapsed": true
   },
   "outputs": [],
   "source": [
    "a = Node(1)\n",
    "b = Node(2)\n",
    "c = Node(3)\n",
    "d = Node(4)\n",
    "e = Node(5)"
   ]
  },
  {
   "cell_type": "code",
   "execution_count": 12,
   "metadata": {},
   "outputs": [],
   "source": [
    "nodes = [a, b, c, d, e]\n",
    "for i in range(1, len(nodes)):\n",
    "    nodes[i - 1].nextnode = nodes[i]  # type: ignore\n",
    "    nodes[i].previousnode = nodes[i - 1]  # type: ignore"
   ]
  },
  {
   "cell_type": "code",
   "execution_count": 13,
   "metadata": {},
   "outputs": [
    {
     "name": "stdout",
     "output_type": "stream",
     "text": [
      "<__main__.Node object at 0x0000023C2512CAD0>\n",
      "<__main__.Node object at 0x0000023C2512F590>\n",
      "<__main__.Node object at 0x0000023C2512DD10>\n",
      "<__main__.Node object at 0x0000023C2512FDD0>\n",
      "<__main__.Node object at 0x0000023C2512C710>\n"
     ]
    }
   ],
   "source": [
    "print(a)\n",
    "print(b)\n",
    "print(c)\n",
    "print(d)\n",
    "print(e)"
   ]
  },
  {
   "cell_type": "code",
   "execution_count": 14,
   "metadata": {},
   "outputs": [
    {
     "name": "stdout",
     "output_type": "stream",
     "text": [
      "<__main__.Node object at 0x0000023C2512F590>\n",
      "<__main__.Node object at 0x0000023C2512DD10>\n",
      "<__main__.Node object at 0x0000023C2512FDD0>\n",
      "<__main__.Node object at 0x0000023C2512C710>\n",
      "None\n"
     ]
    }
   ],
   "source": [
    "print(a.nextnode)\n",
    "print(b.nextnode)\n",
    "print(c.nextnode)\n",
    "print(d.nextnode)\n",
    "print(e.nextnode)"
   ]
  },
  {
   "cell_type": "code",
   "execution_count": 15,
   "metadata": {},
   "outputs": [
    {
     "name": "stdout",
     "output_type": "stream",
     "text": [
      "None\n",
      "<__main__.Node object at 0x0000023C2512CAD0>\n",
      "<__main__.Node object at 0x0000023C2512F590>\n",
      "<__main__.Node object at 0x0000023C2512DD10>\n",
      "<__main__.Node object at 0x0000023C2512FDD0>\n"
     ]
    }
   ],
   "source": [
    "print(a.previousnode)\n",
    "print(b.previousnode)\n",
    "print(c.previousnode)\n",
    "print(d.previousnode)\n",
    "print(e.previousnode)"
   ]
  },
  {
   "cell_type": "markdown",
   "metadata": {},
   "source": [
    "# Test Your Solution\n",
    "\n",
    "Note that there is no test for this solution (because it would give away the answer structure).\n",
    "\n",
    "Check out the Implement a Linked List Solution Notebook for the answer to this interview problem, as well as the answer for the implementation of a singly linked list.\n"
   ]
  },
  {
   "cell_type": "markdown",
   "metadata": {},
   "source": []
  }
 ],
 "metadata": {
  "kernelspec": {
   "display_name": "Python 3",
   "language": "python",
   "name": "python3"
  },
  "language_info": {
   "codemirror_mode": {
    "name": "ipython",
    "version": 3
   },
   "file_extension": ".py",
   "mimetype": "text/x-python",
   "name": "python",
   "nbconvert_exporter": "python",
   "pygments_lexer": "ipython3",
   "version": "3.11.5"
  }
 },
 "nbformat": 4,
 "nbformat_minor": 1
}
