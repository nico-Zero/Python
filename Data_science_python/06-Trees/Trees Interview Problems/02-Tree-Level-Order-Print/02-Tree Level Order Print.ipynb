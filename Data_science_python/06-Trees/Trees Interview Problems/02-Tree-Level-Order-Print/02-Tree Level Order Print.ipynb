{
 "cells": [
  {
   "cell_type": "markdown",
   "metadata": {},
   "source": [
    "# Tree Level Order Print \n",
    "\n",
    "Given a binary tree of integers, print it in level order. The output will contain space between the numbers in the same level, and new line between different levels. For example, if the tree is: \n",
    "___\n",
    "![title](tree_print.png)\n",
    "___\n",
    "The output should be: \n",
    "\n",
    "    1 \n",
    "    2 3 \n",
    "    4 5 6"
   ]
  },
  {
   "cell_type": "markdown",
   "metadata": {},
   "source": [
    "## Solution\n",
    "\n",
    "Fill out your solution below:"
   ]
  },
  {
   "cell_type": "code",
   "execution_count": 2,
   "metadata": {
    "collapsed": true
   },
   "outputs": [],
   "source": [
    "class Node:\n",
    "    def __init__(self, val):\n",
    "        self.left = None\n",
    "        self.right = None\n",
    "        self.val =  val "
   ]
  },
  {
   "cell_type": "code",
   "execution_count": 22,
   "metadata": {
    "collapsed": true
   },
   "outputs": [
    {
     "name": "stdout",
     "output_type": "stream",
     "text": [
      "1\n",
      "2 3\n",
      "4 5 6 7\n"
     ]
    }
   ],
   "source": [
    "def levelOrderPrint(tree_root):\n",
    "    monitor = [tree_root]\n",
    "    counter = 1\n",
    "    result = []\n",
    "    while True:\n",
    "        t1 = []\n",
    "        t2 = []\n",
    "        for n in monitor:\n",
    "            if n :\n",
    "                t1 += [n.left,n.right]\n",
    "                t2 += [n.val]\n",
    "            else:\n",
    "                break\n",
    "        monitor = t1\n",
    "        if not len(monitor):\n",
    "            break\n",
    "        result.append(t2)\n",
    "        counter += 1\n",
    "    return result\n",
    "\n",
    "\n",
    "def print_(t):\n",
    "    for i in t:\n",
    "        print(*i,sep=\" \")\n",
    "\n",
    "\n",
    "n1 = Node(1)\n",
    "n1.left = Node(2)\n",
    "n1.right = Node(3)\n",
    "n1.left.left = Node(4)\n",
    "n1.left.right = Node(5)\n",
    "n1.right.left = Node(6)\n",
    "n1.right.right = Node(7)\n",
    "\n",
    "r = levelOrderPrint(n1)\n",
    "\n",
    "print_(r)\n",
    "\n",
    "\n",
    "\n"
   ]
  }
 ],
 "metadata": {
  "kernelspec": {
   "display_name": "Python 3",
   "language": "python",
   "name": "python3"
  },
  "language_info": {
   "codemirror_mode": {
    "name": "ipython",
    "version": 3
   },
   "file_extension": ".py",
   "mimetype": "text/x-python",
   "name": "python",
   "nbconvert_exporter": "python",
   "pygments_lexer": "ipython3",
   "version": "3.11.7"
  }
 },
 "nbformat": 4,
 "nbformat_minor": 1
}
