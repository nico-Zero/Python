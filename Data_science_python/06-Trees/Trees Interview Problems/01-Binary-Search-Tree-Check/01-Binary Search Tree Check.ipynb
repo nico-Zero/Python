{
 "cells": [
  {
   "cell_type": "markdown",
   "metadata": {},
   "source": [
    "# Binary Search Tree Check \n",
    "\n",
    "## Problem Statement\n",
    "\n",
    "Given a binary tree, check whether it’s a binary search tree or not.\n",
    "\n",
    "** Again, no solution cell, just worry about your code making sense logically. Hint: Think about tree traversals. **\n",
    "\n",
    "## Solution\n",
    "\n",
    "Fill out your solution below:"
   ]
  },
  {
   "cell_type": "code",
   "execution_count": 62,
   "metadata": {},
   "outputs": [
    {
     "data": {
      "text/plain": [
       "False"
      ]
     },
     "execution_count": 62,
     "metadata": {},
     "output_type": "execute_result"
    }
   ],
   "source": [
    "from random import randint, choice\n",
    "\n",
    "class tree():\n",
    "    def __init__(self,key):\n",
    "        self.key = key\n",
    "        self.left = None\n",
    "        self.right = None\n",
    "\n",
    "def generatorBinaryTree(root:tree,n):\n",
    "    jj = [\"l\",\"r\"]\n",
    "    x = [root]\n",
    "    while len(x) != n:\n",
    "        c = choice(jj)\n",
    "        current_node = choice(x)\n",
    "        if c == \"l\" and not current_node.left:\n",
    "            current_node.left = tree(randint(100,1000))\n",
    "            x.append(current_node.left)\n",
    "        elif c == \"r\" and not current_node.right:\n",
    "            current_node.right = tree(randint(100,1000))\n",
    "            x.append(current_node.right)\n",
    "    \n",
    "def check_tree(root:tree):\n",
    "    r = list()\n",
    "    def body(root:tree):\n",
    "        if root.left:\n",
    "            body(root.left)\n",
    "        r.append(root.key)\n",
    "        if root.right:\n",
    "            body(root.right)\n",
    "    body(root)\n",
    "    return r == sorted(x)\n",
    "    \n",
    "\n",
    "\n",
    "j = tree(69)\n",
    "\n",
    "generatorBinaryTree(j,20)\n",
    "\n",
    "\n",
    "check_tree(j)"
   ]
  },
  {
   "cell_type": "markdown",
   "metadata": {},
   "source": [
    "This is a classic interview problem, so feel free to just Google search \"Validate BST\" for more information on this problem!"
   ]
  }
 ],
 "metadata": {
  "kernelspec": {
   "display_name": "Python 3",
   "language": "python",
   "name": "python3"
  },
  "language_info": {
   "codemirror_mode": {
    "name": "ipython",
    "version": 3
   },
   "file_extension": ".py",
   "mimetype": "text/x-python",
   "name": "python",
   "nbconvert_exporter": "python",
   "pygments_lexer": "ipython3",
   "version": "3.11.7"
  }
 },
 "nbformat": 4,
 "nbformat_minor": 1
}
