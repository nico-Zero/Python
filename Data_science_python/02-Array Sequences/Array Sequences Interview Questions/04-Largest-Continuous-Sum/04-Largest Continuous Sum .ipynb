{
 "cells": [
  {
   "cell_type": "markdown",
   "metadata": {},
   "source": [
    "# Largest Continuous Sum\n",
    "\n",
    "## Problem\n",
    "\n",
    "Given an array of integers (positive and negative) find the largest continuous sum.\n",
    "\n",
    "## Solution\n",
    "\n",
    "Fill out your solution below:\n"
   ]
  },
  {
   "cell_type": "code",
   "execution_count": 35,
   "metadata": {},
   "outputs": [],
   "source": [
    "def large_cont_sum(arr):\n",
    "    largest = {}\n",
    "\n",
    "    if len(arr) == 0:\n",
    "        return 0\n",
    "\n",
    "    if \"-\" not in \"\".join([str(i) for i in arr]):\n",
    "        return sum(arr)\n",
    "\n",
    "    for x in range(len(arr)):\n",
    "        for y in range(len(arr)):\n",
    "            largest[sum(arr[x : y + 1])] = arr[: y + 1]\n",
    "    return max(largest)\n",
    "\n",
    "\n",
    "def large_cont_sum2(arr):\n",
    "    if len(arr) == 0:\n",
    "        return 0\n",
    "\n",
    "    max_sum = current_sum = arr[0]\n",
    "\n",
    "    for num in arr[1:]:\n",
    "        current_sum = max(current_sum + num, num)\n",
    "        max_sum = max(max_sum, current_sum)\n",
    "    \n",
    "    return max_sum"
   ]
  },
  {
   "cell_type": "code",
   "execution_count": 36,
   "metadata": {},
   "outputs": [
    {
     "data": {
      "text/plain": [
       "29"
      ]
     },
     "execution_count": 36,
     "metadata": {},
     "output_type": "execute_result"
    }
   ],
   "source": [
    "from prettyprinter import pprint\n",
    "\n",
    "large_cont_sum2([1, 2, -1, 3, 4, 10, 10, -10, -1])"
   ]
  },
  {
   "cell_type": "markdown",
   "metadata": {},
   "source": [
    "---\n",
    "\n",
    "Many times in an interview setting the question also requires you to report back the start and end points of the sum. Keep this in mind and see if you can solve that problem, we'll see it in the mock interview section of the course!\n"
   ]
  },
  {
   "cell_type": "markdown",
   "metadata": {},
   "source": [
    "# Test Your Solution\n"
   ]
  },
  {
   "cell_type": "code",
   "execution_count": 22,
   "metadata": {},
   "outputs": [
    {
     "name": "stdout",
     "output_type": "stream",
     "text": [
      "ALL TEST CASES PASSED\n"
     ]
    }
   ],
   "source": [
    "from nose.tools import assert_equal\n",
    "\n",
    "\n",
    "class LargeContTest(object):\n",
    "    def test(self, sol):\n",
    "        assert_equal(sol([1, 2, -1, 3, 4, -1]), 9)\n",
    "        assert_equal(sol([1, 2, -1, 3, 4, 10, 10, -10, -1]), 29)\n",
    "        assert_equal(sol([-1, 1]), 1)\n",
    "        print(\"ALL TEST CASES PASSED\")\n",
    "\n",
    "\n",
    "# Run Test\n",
    "t = LargeContTest()\n",
    "t.test(large_cont_sum)"
   ]
  },
  {
   "cell_type": "markdown",
   "metadata": {},
   "source": [
    "## Good Job!\n"
   ]
  }
 ],
 "metadata": {
  "kernelspec": {
   "display_name": "Python 3",
   "language": "python",
   "name": "python3"
  },
  "language_info": {
   "codemirror_mode": {
    "name": "ipython",
    "version": 3
   },
   "file_extension": ".py",
   "mimetype": "text/x-python",
   "name": "python",
   "nbconvert_exporter": "python",
   "pygments_lexer": "ipython3",
   "version": "3.11.5"
  }
 },
 "nbformat": 4,
 "nbformat_minor": 1
}
