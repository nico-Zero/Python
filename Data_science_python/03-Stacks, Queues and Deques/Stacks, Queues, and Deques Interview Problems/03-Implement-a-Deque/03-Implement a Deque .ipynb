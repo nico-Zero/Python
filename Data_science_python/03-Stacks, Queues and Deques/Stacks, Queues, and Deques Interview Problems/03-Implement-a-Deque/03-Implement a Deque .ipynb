{
 "cells": [
  {
   "cell_type": "markdown",
   "metadata": {},
   "source": [
    "# Implement a Deque\n",
    "\n",
    "Finally, implement a Deque class! It should be able to do the following:\n",
    "\n",
    "-   Check if its empty\n",
    "-   Add to both front and rear\n",
    "-   Remove from Front and Rear\n",
    "-   Check the Size\n"
   ]
  },
  {
   "cell_type": "code",
   "execution_count": 7,
   "metadata": {
    "collapsed": true
   },
   "outputs": [],
   "source": [
    "class Deque(object):\n",
    "    def __init__(self):\n",
    "        self.items = []\n",
    "\n",
    "    def isEmpty(self):\n",
    "        return self.items == []\n",
    "\n",
    "    def AddFront(self, item):\n",
    "        self.items.insert(0, item)\n",
    "\n",
    "    def AddRare(self, item):\n",
    "        self.items.append(item)\n",
    "\n",
    "    def RemoveFront(self):\n",
    "        self.items.pop(0)\n",
    "\n",
    "    def RemoveRare(self):\n",
    "        self.items.pop()\n",
    "\n",
    "    def size(self):\n",
    "        return len(self.items)"
   ]
  }
 ],
 "metadata": {
  "kernelspec": {
   "display_name": "Python 3",
   "language": "python",
   "name": "python3"
  },
  "language_info": {
   "codemirror_mode": {
    "name": "ipython",
    "version": 3
   },
   "file_extension": ".py",
   "mimetype": "text/x-python",
   "name": "python",
   "nbconvert_exporter": "python",
   "pygments_lexer": "ipython3",
   "version": "3.11.5"
  }
 },
 "nbformat": 4,
 "nbformat_minor": 1
}
