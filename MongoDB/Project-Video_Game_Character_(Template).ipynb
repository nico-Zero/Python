{
 "cells": [
  {
   "cell_type": "markdown",
   "id": "52c75cab",
   "metadata": {},
   "source": [
    "## Video Game Character Project\n",
    "#### Part I:\n",
    "Apply what you have learned in the previous lectures to insert and find data related to your own video game characters within your MongoDB database."
   ]
  },
  {
   "cell_type": "markdown",
   "id": "ded8a6c6",
   "metadata": {},
   "source": [
    "#### Import Dependencies"
   ]
  },
  {
   "cell_type": "code",
   "execution_count": null,
   "id": "5cd057dd",
   "metadata": {},
   "outputs": [],
   "source": [
    "import copy\n",
    "import numpy as np\n",
    "\n",
    "from pymongo import MongoClient"
   ]
  },
  {
   "cell_type": "markdown",
   "id": "10b91355",
   "metadata": {},
   "source": [
    "#### Player and Items Python Classes "
   ]
  },
  {
   "cell_type": "code",
   "execution_count": null,
   "id": "2da3978e",
   "metadata": {},
   "outputs": [],
   "source": [
    "class Player:\n",
    "    def __init__(self, name, max_health, max_energy, items=[]):\n",
    "        self.name = name\n",
    "        self.health = max_health \n",
    "        self.max_health = max_health\n",
    "        self.energy = max_energy\n",
    "        self.max_energy = max_energy\n",
    "        self.items = copy.deepcopy(items)\n",
    "        \n",
    "        \n",
    "    def attack(self, player):\n",
    "        energy_cost = 5\n",
    "        \n",
    "        if self.energy >= energy_cost:\n",
    "            attack_strength = np.random.randint(1, 6)\n",
    "            player.health -= attack_strength\n",
    "            self.energy -= energy_cost\n",
    "            print(\"{} attacked {} for {} damage\".format(self.name, player.name, attack_strength))\n",
    "        else:\n",
    "            print(\"{} does not have enough energy to attack {}\".format(self.name, player.name))\n",
    "        \n",
    "        \n",
    "    def heal(self, amount):\n",
    "        self.health += amount\n",
    "        \n",
    "        if self.health > self.max_health:\n",
    "            self.health = self.max_health\n",
    "        \n",
    "        \n",
    "    def stats(self):\n",
    "        return vars(self)\n",
    "        \n",
    "        \n",
    "    def use_item(self, item_name):\n",
    "        try: \n",
    "            item = next(item for item in self.items if item.name == item_name)\n",
    "            item.quantity -= 1\n",
    "\n",
    "            for effect in item.effects:\n",
    "\n",
    "                for method, value in effect.items():\n",
    "                    class_method = getattr(self, method)\n",
    "                    class_method(value)\n",
    "\n",
    "            if item.quantity == 0:\n",
    "                self.items.remove(item)\n",
    "                \n",
    "        except:\n",
    "            print(\"{} does not have any {}s\".format(self.name, item_name))"
   ]
  },
  {
   "cell_type": "code",
   "execution_count": null,
   "id": "41dd597f",
   "metadata": {},
   "outputs": [],
   "source": [
    "class Item:\n",
    "    def __init__(self, name, quantity, effects=[]):\n",
    "        self.name = name\n",
    "        self.quantity = quantity \n",
    "        self.effects = effects\n",
    "        \n",
    "        \n",
    "    def __repr__(self):\n",
    "        return \"Item(name={}, quantity={}, effects={})\".format(self.name, self.quantity, self.effects)"
   ]
  },
  {
   "cell_type": "markdown",
   "id": "b9a925b2",
   "metadata": {},
   "source": [
    "#### Playground Area\n",
    "Feel free to play around with the Player and Item classes defined above to get a feel for how they work."
   ]
  },
  {
   "cell_type": "code",
   "execution_count": null,
   "id": "6479563d",
   "metadata": {},
   "outputs": [],
   "source": [
    "# Example usage of Item:\n",
    "potion = Item(\"health_potion\", 2, [{\"heal\": 10}])"
   ]
  },
  {
   "cell_type": "code",
   "execution_count": null,
   "id": "e9d57876",
   "metadata": {},
   "outputs": [],
   "source": []
  },
  {
   "cell_type": "markdown",
   "id": "8da3bb78",
   "metadata": {},
   "source": [
    "#### Project Instructions"
   ]
  },
  {
   "cell_type": "code",
   "execution_count": null,
   "id": "196c4a52",
   "metadata": {},
   "outputs": [],
   "source": [
    "# TODO:\n",
    "# 1) Initalize a MongoDB Client object to connect to your database with\n",
    "client = MongoClient(\"mongodb://localhost:27017\")\n",
    "print(client.list_database_names())"
   ]
  },
  {
   "cell_type": "code",
   "execution_count": null,
   "id": "c16935f4",
   "metadata": {},
   "outputs": [],
   "source": [
    "# TODO:\n",
    "# 2) Create a function that takes in a Player object and inserts it into the database, \n",
    "#    Extra Challenge: check for duplicate player entries, if so, do not insert again\n",
    "\n",
    "\n",
    "# 3) Create a function that is able to find a Player in the databse by searching for their name\n",
    "\n",
    "\n",
    "# 4) Create a function that loads the data from the above function and returns a Player object configured with that data\n"
   ]
  },
  {
   "cell_type": "code",
   "execution_count": null,
   "id": "7ed7a81b",
   "metadata": {},
   "outputs": [],
   "source": [
    "# TODO:\n",
    "# 5) Create at least 2 players, optionally give them items\n",
    "\n",
    "\n",
    "# 6) Insert Players into MongoDB\n",
    "\n",
    "\n",
    "# 7) Load the player data from MongoDB into new player variables\n"
   ]
  }
 ],
 "metadata": {
  "kernelspec": {
   "display_name": "Python 3 (ipykernel)",
   "language": "python",
   "name": "python3"
  },
  "language_info": {
   "codemirror_mode": {
    "name": "ipython",
    "version": 3
   },
   "file_extension": ".py",
   "mimetype": "text/x-python",
   "name": "python",
   "nbconvert_exporter": "python",
   "pygments_lexer": "ipython3",
   "version": "3.8.11"
  }
 },
 "nbformat": 4,
 "nbformat_minor": 5
}
